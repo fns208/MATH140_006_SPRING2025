{
 "cells": [
  {
   "cell_type": "markdown",
   "metadata": {
    "slideshow": {
     "slide_type": "-"
    }
   },
   "source": [
    "# Lesson 1: Introduction to Computing Using python\n",
    "\n",
    "**Goals & Key Ideas:**\n",
    "\n",
    "1. Working with Jupyter Notebooks\n",
    "2. Computing and arithmetic in python\n",
    "3. Working with \"names\"\n",
    "4. Types of Data\n",
    "5. Functions\n",
    "6. Lists\n",
    "7. Numpy Arrays\n",
    "8. Pandas Data Frames\n",
    "9. Writing your own library"
   ]
  },
  {
   "cell_type": "markdown",
   "metadata": {
    "slideshow": {
     "slide_type": "-"
    }
   },
   "source": [
    "## 1. Working with Jupyter Notebooks\n",
    "\n",
    "A Jupyter Notebook is a type of document that can be used for both writing text (like a Word document) and writing codes"
   ]
  },
  {
   "cell_type": "markdown",
   "metadata": {
    "slideshow": {
     "slide_type": "-"
    }
   },
   "source": [
    "A Jupyter Notebook consists of **cells** (places to enter our texts or codes)"
   ]
  },
  {
   "cell_type": "markdown",
   "metadata": {
    "slideshow": {
     "slide_type": "-"
    }
   },
   "source": [
    "There are two main types of cells:\n",
    "+ **Markdown cells\"**: for writing texts\n",
    "+ **Code cells**: for writing codes"
   ]
  },
  {
   "cell_type": "markdown",
   "metadata": {
    "slideshow": {
     "slide_type": "-"
    }
   },
   "source": [
    "To run a code in a current cell, we press Shift + Enter"
   ]
  },
  {
   "cell_type": "markdown",
   "metadata": {},
   "source": [
    "*Side note: In our course, we will write python codes, but in general we can write codes in other languages in a Jupyter Notebook (e.g. R), by specifying the \"kernel\" to use.*"
   ]
  },
  {
   "cell_type": "markdown",
   "metadata": {
    "slideshow": {
     "slide_type": "-"
    }
   },
   "source": [
    "## Demonstration\n",
    "\n",
    "During each class, please follow along by modifying or filling out texts/codes in the notebook.\n",
    "\n",
    "+ **To get a copy where your own notes and changes can be saved**\n",
    "    + Go to our JupyterHub\n",
    "    + Go to the `class_materials` folder\n",
    "    + Your copy of the notebook is stored under the `lesson01` folder\n",
    "    + You are strongly encouraged to fill in the blanks and to add your own notes there\n",
    "+ **To get a reference copy (read only)**\n",
    "    + Go to our JupyterHub\n",
    "    + Go to the `shared` folder\n",
    "    + go to the `class_notebooks__forreference` subfolder\n",
    "    + After class, a filled out copy of the Jupyter notebook will be available there.  This copy is read-only; your notes/changes will not be saved.\n",
    "\n",
    "(Sometimes, the lecture slides might be a pdf file or a set of Google presentation slides, accompanied by Jupyter notebooks for demonstrations.  We will switch back and forth between the slides and the Jupyter notebook.)"
   ]
  },
  {
   "cell_type": "markdown",
   "metadata": {},
   "source": [
    "**A quick comment on Comments**\n",
    "\n",
    "As your python codes become more and more involved, it is important to make sure that you and others understand what exactly the code does. \n",
    "To do this, we want to add additional explanation (in english) that we want python to ignore computationally. \n",
    "This additional explanation can be added as \"comments\" in python.\n"
   ]
  },
  {
   "cell_type": "markdown",
   "metadata": {
    "slideshow": {
     "slide_type": "-"
    }
   },
   "source": [
    "## 2. Computing and arithmetic in python\n",
    "\n",
    "We can do basic computations in python, such as adding, subtracting, multiplying and dividing, and taking exponents/powers."
   ]
  },
  {
   "cell_type": "code",
   "execution_count": null,
   "metadata": {
    "scrolled": true
   },
   "outputs": [],
   "source": []
  },
  {
   "cell_type": "code",
   "execution_count": null,
   "metadata": {
    "scrolled": true
   },
   "outputs": [],
   "source": []
  },
  {
   "cell_type": "code",
   "execution_count": null,
   "metadata": {
    "scrolled": true
   },
   "outputs": [],
   "source": []
  },
  {
   "cell_type": "markdown",
   "metadata": {},
   "source": [
    "## 3. Working with \"names\"\n",
    "\n",
    "Sometimes, we would like to give names for the values that we are working with so that we can easily refer to them."
   ]
  },
  {
   "cell_type": "markdown",
   "metadata": {},
   "source": [
    "This is similar to how math variables might stand for a value\n",
    "(e.g. saying x = 2 means that x+4 = 6).\n",
    "\n",
    "\n",
    "That is, names are \"labels\" that point to a particular object (e.g., a number).\n"
   ]
  },
  {
   "cell_type": "markdown",
   "metadata": {},
   "source": [
    "In python, we assign a value to a name, we use “=”\n",
    "\n",
    "`NAME = VALUE`\n",
    "\n",
    "For example:\n",
    "\n",
    "`x = 2`\n",
    "\n",
    "means that x now “stands for” the value 2.\n"
   ]
  },
  {
   "cell_type": "code",
   "execution_count": null,
   "metadata": {
    "scrolled": true
   },
   "outputs": [],
   "source": []
  },
  {
   "cell_type": "code",
   "execution_count": null,
   "metadata": {
    "scrolled": true
   },
   "outputs": [],
   "source": []
  },
  {
   "cell_type": "markdown",
   "metadata": {
    "scrolled": true
   },
   "source": [
    "Rules for picking “names”:\n",
    "\n",
    "- can only contain alpha-numeric characters and underscores (A-z, 0-9, and _ )\n",
    "- must start with a letter or the underscore character\n",
    "- cannot start with a number\n",
    "- case-sensitive"
   ]
  },
  {
   "cell_type": "code",
   "execution_count": null,
   "metadata": {
    "scrolled": true
   },
   "outputs": [],
   "source": []
  },
  {
   "cell_type": "code",
   "execution_count": null,
   "metadata": {
    "scrolled": true
   },
   "outputs": [],
   "source": []
  },
  {
   "cell_type": "markdown",
   "metadata": {},
   "source": [
    "We could give names to not just numbers, but also text. Make sure to surround text to be stored by a single quotation mark.\n",
    "\n",
    "`NAME = VALUE`\n",
    "\n",
    "For example:\n",
    "\n",
    "`my_name = ‘Jane Doe’`\n",
    "\n",
    "means that my_name now “stands for” the value ‘Jane Doe’."
   ]
  },
  {
   "cell_type": "code",
   "execution_count": null,
   "metadata": {},
   "outputs": [],
   "source": []
  },
  {
   "cell_type": "code",
   "execution_count": null,
   "metadata": {},
   "outputs": [],
   "source": []
  },
  {
   "cell_type": "markdown",
   "metadata": {},
   "source": [
    "We could give names to not just numbers and texts, but really anything, including data tables. "
   ]
  },
  {
   "cell_type": "code",
   "execution_count": 15,
   "metadata": {
    "scrolled": true
   },
   "outputs": [],
   "source": [
    "# Don't worry about the detail of this code cell for now.  We will explain what's happening here more thoroughly later.\n",
    "import pandas as pd\n",
    "# There is a file called top50.csv in the folder where this jupyter notebook file is located\n",
    "# We load this file:\n",
    "top50 =  pd.read_csv(\"top50.csv\")\n",
    "\n",
    "\n",
    "# For now, the main thing to keep in mind is that we are giving a name to a data table \n",
    "#  so that we can easily refer to it and display it\n",
    "# When you type the name of the table and run the code, python displays the contents of the table"
   ]
  },
  {
   "cell_type": "code",
   "execution_count": null,
   "metadata": {},
   "outputs": [],
   "source": []
  },
  {
   "cell_type": "markdown",
   "metadata": {
    "slideshow": {
     "slide_type": "-"
    }
   },
   "source": [
    "## 4. Types of Data\n",
    "\n",
    "Here is an outline of the main types of data we will work with:"
   ]
  },
  {
   "cell_type": "markdown",
   "metadata": {
    "slideshow": {
     "slide_type": "-"
    }
   },
   "source": [
    "##### 1. Numerical Data\n",
    "    \n",
    "These are data that are numbers! \n",
    "\n",
    "+ `int`: integers / whole numbers\n",
    "+ `float`: continuous / real numbers\n",
    "\n",
    "  “float” here is short for \"floating point\", which very roughly speaking indicates the way python stores real numbers"
   ]
  },
  {
   "cell_type": "code",
   "execution_count": null,
   "metadata": {
    "scrolled": true
   },
   "outputs": [],
   "source": []
  },
  {
   "cell_type": "markdown",
   "metadata": {
    "slideshow": {
     "slide_type": "-"
    }
   },
   "source": [
    "##### 2. Text Data (a.k.a. string or **character**)"
   ]
  },
  {
   "cell_type": "code",
   "execution_count": null,
   "metadata": {
    "scrolled": true
   },
   "outputs": [],
   "source": []
  },
  {
   "cell_type": "markdown",
   "metadata": {
    "slideshow": {
     "slide_type": "-"
    }
   },
   "source": [
    "##### 3. Categorical/Group Data\n",
    "   \n",
    "These are data that indicates groups/categories/types.\n",
    "   \n"
   ]
  },
  {
   "cell_type": "code",
   "execution_count": null,
   "metadata": {
    "scrolled": true
   },
   "outputs": [],
   "source": []
  },
  {
   "cell_type": "markdown",
   "metadata": {
    "slideshow": {
     "slide_type": "-"
    }
   },
   "source": [
    "##### 4. Boolean Data (a.k.a. **logical** data)\n",
    "   \n",
    "These are \"binary\" data, which has only two possibilities: `True` or `False` values.  We will see their concrete use later."
   ]
  },
  {
   "cell_type": "code",
   "execution_count": null,
   "metadata": {
    "scrolled": true
   },
   "outputs": [],
   "source": []
  },
  {
   "cell_type": "markdown",
   "metadata": {
    "slideshow": {
     "slide_type": "-"
    }
   },
   "source": [
    "## 5. Functions\n",
    "\n",
    "Functions in python is somewhat analogous to mathematical functions."
   ]
  },
  {
   "cell_type": "markdown",
   "metadata": {},
   "source": [
    "For example, $f(x)=x^2$. We know that $x$ represents the input that goes into the function $f(x)$ and we get the output $x^2$. For instance, $f(5) = 5^2 = 25$. We have the input $x=5$ and after plugging it into the function $f(x)$, we get the output $25$."
   ]
  },
  {
   "cell_type": "markdown",
   "metadata": {},
   "source": [
    "Python allows us to do a lot of things using \"functions\".\n",
    "\n",
    "We can think of functions in python as \"**verbs**\" which we can use to tell python to carry out a particular **action** or **task**.\n",
    "\n",
    "Just as some verbs in English must be followed by a noun (\"transitive verbs\") and some don't, some functions in python must take a particular object or input (often called an \"argument\") and some don't."
   ]
  },
  {
   "cell_type": "markdown",
   "metadata": {},
   "source": [
    "**Definition:** A **function** \n",
    "- takes **input(s)** (or **argument(s)** ) and\n",
    "- **does something** according to the inputs.\n",
    "- A function **might also returns output(s)**.\n",
    "\n",
    "<img src='function.png' width=600>"
   ]
  },
  {
   "cell_type": "markdown",
   "metadata": {},
   "source": [
    "### A few simple python functions"
   ]
  },
  {
   "cell_type": "markdown",
   "metadata": {},
   "source": [
    "`print(NAME)`\n",
    "- to print the value represented/referred by a name\n",
    "- Input: a name\n",
    "- Output: the value referred by that name\n",
    "  \n",
    "Check out “built-in” functions"
   ]
  },
  {
   "cell_type": "code",
   "execution_count": null,
   "metadata": {
    "scrolled": true,
    "slideshow": {
     "slide_type": "-"
    }
   },
   "outputs": [],
   "source": []
  },
  {
   "cell_type": "markdown",
   "metadata": {},
   "source": [
    "`type(NAME)`\n",
    "- To view the type of data referred to by a name\n",
    "- Input: a name\n",
    "- Output: the type of data referred to by that name\n"
   ]
  },
  {
   "cell_type": "code",
   "execution_count": null,
   "metadata": {
    "scrolled": true,
    "slideshow": {
     "slide_type": "-"
    }
   },
   "outputs": [],
   "source": []
  },
  {
   "cell_type": "markdown",
   "metadata": {
    "slideshow": {
     "slide_type": "-"
    }
   },
   "source": [
    "## 6. Lists\n",
    "\n",
    "Sometimes, we need to work not just with one number but a collection of numbers; in python, these collections of numbers are called lists."
   ]
  },
  {
   "cell_type": "markdown",
   "metadata": {
    "slideshow": {
     "slide_type": "-"
    }
   },
   "source": [
    "### Making lists\n",
    "\n",
    "- Place the items between a pair of square brackets, separated by commas\n",
    "  \n",
    "Example:\n",
    "\n",
    "`Mylist = [1, 3, 5, 7]`\n",
    "\n",
    "`Mylist2 = [ [1, 2], [3, 4] ]`\n"
   ]
  },
  {
   "cell_type": "code",
   "execution_count": null,
   "metadata": {
    "scrolled": true,
    "slideshow": {
     "slide_type": "-"
    }
   },
   "outputs": [],
   "source": []
  },
  {
   "cell_type": "code",
   "execution_count": null,
   "metadata": {},
   "outputs": [],
   "source": []
  },
  {
   "cell_type": "markdown",
   "metadata": {},
   "source": [
    "### Extracting elements of a list\n",
    "\n",
    "- Python indexes elements starting from 0, 1, 2, …\n",
    "- So, the “first” element has index 0, the “second” element has index 1, etc.\n",
    "- To get the element at index n from a list L, we use the square brackets: `L[n]`\n",
    "\n",
    "Example:  `Mylist = [1, 3, 5, 7]`\n",
    "Then, \n",
    "- `Mylist[0]` points to the number 1\n",
    "- `Mylist[2]` points to the number 5"
   ]
  },
  {
   "cell_type": "code",
   "execution_count": null,
   "metadata": {
    "scrolled": true,
    "slideshow": {
     "slide_type": "-"
    }
   },
   "outputs": [],
   "source": []
  },
  {
   "cell_type": "code",
   "execution_count": null,
   "metadata": {
    "scrolled": true
   },
   "outputs": [],
   "source": []
  },
  {
   "cell_type": "markdown",
   "metadata": {
    "slideshow": {
     "slide_type": "-"
    }
   },
   "source": [
    "### Useful functions for working with lists\n",
    "\n",
    "The following are some other useful functions that we can use to examine lists:\n",
    "+ `len()`: to find the \"length\" of a list (i.e. how many values are stored in a list)\n",
    "+ `max()`: to find the largest value in a list\n",
    "+ `min()`: to find the smallest value in a list\n",
    "+ `sum()`: to find the sum of values in a numeric list\n",
    "\n",
    "Try them below."
   ]
  },
  {
   "cell_type": "code",
   "execution_count": null,
   "metadata": {
    "scrolled": true
   },
   "outputs": [],
   "source": []
  },
  {
   "cell_type": "code",
   "execution_count": null,
   "metadata": {},
   "outputs": [],
   "source": []
  },
  {
   "cell_type": "code",
   "execution_count": null,
   "metadata": {},
   "outputs": [],
   "source": []
  },
  {
   "cell_type": "code",
   "execution_count": null,
   "metadata": {},
   "outputs": [],
   "source": []
  },
  {
   "cell_type": "code",
   "execution_count": null,
   "metadata": {
    "scrolled": true
   },
   "outputs": [],
   "source": []
  },
  {
   "cell_type": "markdown",
   "metadata": {},
   "source": [
    "## Python Libraries"
   ]
  },
  {
   "cell_type": "markdown",
   "metadata": {},
   "source": [
    "Python is a general purpose programming language.\n",
    "\n",
    "In order to ask python to carry out certain types of tasks (e.g., data analysis, etc.), we need to ask python to “fetch” specialized “toolboxes”.\n",
    "\n",
    "These “toolboxes” are called “libraries”. \n",
    "Some of the libraries that we will use:\n",
    "\n",
    "- **numpy** \t\t\t\t\t- for mathematical computation\n",
    "- **pandas** \t\t\t\t\t- for working with data tables\n",
    "- **matplotlib** and **seaborn**\t- for making plots\n",
    "- **sklearn** \t\t\t \t- for machine learning tools"
   ]
  },
  {
   "cell_type": "code",
   "execution_count": null,
   "metadata": {},
   "outputs": [],
   "source": []
  },
  {
   "cell_type": "markdown",
   "metadata": {
    "scrolled": true
   },
   "source": [
    "### Numpy\n",
    "To ask python to “fetch” a particular library, we use the import command:\n",
    "\n",
    "`import numpy`\n",
    "\n",
    "We can also give libraries a nickname of our choice:\n",
    "\n",
    "`import numpy as np`"
   ]
  },
  {
   "cell_type": "markdown",
   "metadata": {},
   "source": [
    "A library contains “tools” that we can use to accomplish various tasks.\n",
    "\n",
    "One of the main types of tools in a library are **functions**.\n",
    "\n",
    "For example, numpy contains mathematical functions (taking a square root, absolute value, etc.)\n",
    "\n",
    "`import numpy`\n",
    "\n",
    "`numpy.sqrt(4)`\n",
    "\n",
    "Or,\n",
    "\n",
    "`import numpy as np`\n",
    "\n",
    "`np.sqrt(4)`"
   ]
  },
  {
   "cell_type": "code",
   "execution_count": null,
   "metadata": {},
   "outputs": [],
   "source": []
  },
  {
   "cell_type": "code",
   "execution_count": null,
   "metadata": {
    "scrolled": true
   },
   "outputs": [],
   "source": []
  },
  {
   "cell_type": "markdown",
   "metadata": {},
   "source": [
    "\n",
    "\n",
    "## 7. Numpy Arrays\n"
   ]
  },
  {
   "cell_type": "markdown",
   "metadata": {},
   "source": [
    "Sometimes, we want to do computation using numbers in a list.\n",
    "\n",
    "To do this, we can create a “mathematical list” using numpy\n",
    "\n",
    "We call this special type of lists a “numpy array”\n",
    "\n",
    "`import numpy as np`\n",
    "\n",
    "`myarray = np.array( [1, 2, 3] )`"
   ]
  },
  {
   "cell_type": "code",
   "execution_count": null,
   "metadata": {
    "scrolled": true
   },
   "outputs": [],
   "source": []
  },
  {
   "cell_type": "code",
   "execution_count": null,
   "metadata": {
    "scrolled": true
   },
   "outputs": [],
   "source": []
  },
  {
   "cell_type": "markdown",
   "metadata": {},
   "source": [
    "## 8. Pandas Data Frames"
   ]
  },
  {
   "cell_type": "markdown",
   "metadata": {},
   "source": [
    "We will work with data tables using the pandas library\n",
    "\n",
    "Pandas data tables are referred to as **data frames**\n",
    "\n",
    "`import pandas as pd`\n",
    "\n",
    "\n",
    "Python can import data in csv format (comma-separated values) as a pandas data frame using pandas’s `read_csv()` function as follows\n",
    "\n",
    "`pd.read_csv(‘FILENAME.csv’)`\n",
    "\n"
   ]
  },
  {
   "cell_type": "markdown",
   "metadata": {},
   "source": [
    "<img src='csv.png' width=300>"
   ]
  },
  {
   "cell_type": "code",
   "execution_count": null,
   "metadata": {
    "scrolled": true
   },
   "outputs": [],
   "source": [
    "# import necessary libraries\n",
    "\n",
    "# assign a dataframe name for your data\n"
   ]
  },
  {
   "cell_type": "code",
   "execution_count": null,
   "metadata": {
    "scrolled": true
   },
   "outputs": [],
   "source": []
  },
  {
   "cell_type": "code",
   "execution_count": null,
   "metadata": {
    "scrolled": true
   },
   "outputs": [],
   "source": []
  },
  {
   "cell_type": "code",
   "execution_count": null,
   "metadata": {
    "scrolled": true
   },
   "outputs": [],
   "source": []
  },
  {
   "cell_type": "code",
   "execution_count": null,
   "metadata": {
    "scrolled": true
   },
   "outputs": [],
   "source": []
  },
  {
   "cell_type": "markdown",
   "metadata": {},
   "source": [
    "## 9. Custom Libraries"
   ]
  },
  {
   "cell_type": "markdown",
   "metadata": {},
   "source": [
    "- Can I write my own library?\n",
    "    - Yes!\n",
    "- Why?\n",
    "    - Writing your own library is very helpful if you have certain functions you need to revisit quite often\n",
    "    - It is a convenient way to access your custom function\n",
    "    - Avoid the need to re-write over and over again\n"
   ]
  },
  {
   "cell_type": "markdown",
   "metadata": {},
   "source": [
    "For example: <"
   ]
  },
  {
   "cell_type": "markdown",
   "metadata": {},
   "source": [
    "<img src='cus_lib_1.png' width=500>"
   ]
  },
  {
   "cell_type": "markdown",
   "metadata": {},
   "source": [
    "<img src='cus_lib_2.png' width=500>"
   ]
  },
  {
   "cell_type": "markdown",
   "metadata": {},
   "source": [
    "<img src='cus_lib_3.png' width=500>"
   ]
  },
  {
   "cell_type": "code",
   "execution_count": null,
   "metadata": {},
   "outputs": [],
   "source": []
  },
  {
   "cell_type": "code",
   "execution_count": null,
   "metadata": {},
   "outputs": [],
   "source": []
  }
 ],
 "metadata": {
  "kernelspec": {
   "display_name": "Python [conda env:py3-11]",
   "language": "python",
   "name": "conda-env-py3-11-py"
  },
  "language_info": {
   "codemirror_mode": {
    "name": "ipython",
    "version": 3
   },
   "file_extension": ".py",
   "mimetype": "text/x-python",
   "name": "python",
   "nbconvert_exporter": "python",
   "pygments_lexer": "ipython3",
   "version": "3.11.11"
  }
 },
 "nbformat": 4,
 "nbformat_minor": 4
}
