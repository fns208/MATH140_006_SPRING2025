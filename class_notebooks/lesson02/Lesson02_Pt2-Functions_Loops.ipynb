{
 "cells": [
  {
   "cell_type": "markdown",
   "metadata": {
    "slideshow": {
     "slide_type": "slide"
    }
   },
   "source": [
    "# Lesson 2 Part 2: Functions & Loops\n",
    "\n",
    "Today:\n",
    "1. Programming Elements: Functions\n",
    "    + Why define our own functions\n",
    "    + How to define your own functions in python\n",
    "2. Programming Elements: Loops\n",
    "    + Understanding the `for` loop\n",
    "    + Tracing how variables change values during loops\n",
    "    + Accessing entries of a data frame using loops"
   ]
  },
  {
   "cell_type": "code",
   "execution_count": null,
   "metadata": {},
   "outputs": [],
   "source": [
    "import numpy as np"
   ]
  },
  {
   "cell_type": "markdown",
   "metadata": {},
   "source": [
    "## Class Starter"
   ]
  },
  {
   "cell_type": "markdown",
   "metadata": {},
   "source": [
    "Suppose that we have the following python commands\n",
    "\n",
    "    total_purchase = 49\n",
    "    x = total_purchase >= 75\n",
    "    ships_to_US_address = True\n",
    "\n",
    "    is_shipping_free = ships_to_US_address or x\n",
    "\n",
    "Which of the following is a correct statement about \n",
    "- the value stored in the name `is_shipping_free`, and \n",
    "- what `x` represents?\n",
    "\n",
    "  \n",
    "<p>A. is_shipping_free is True; x checks if your total purchase is 75 or greater</p>\n",
    "<p>B. is_shipping_free is True; x checks if shipping is free</p>\n",
    "<p>C. is_shipping_free is False; x checks if your total purchase is 75 or greater</p>\n",
    "<p>D. is_shipping_free is False; x checks if shipping is free</p>\n",
    "<p>E. Statements A-D are all false</p>\n"
   ]
  },
  {
   "cell_type": "markdown",
   "metadata": {},
   "source": [
    "Answer: "
   ]
  },
  {
   "cell_type": "markdown",
   "metadata": {
    "slideshow": {
     "slide_type": "slide"
    }
   },
   "source": [
    "## 1. Functions"
   ]
  },
  {
   "cell_type": "markdown",
   "metadata": {},
   "source": [
    "### Functions in Python"
   ]
  },
  {
   "cell_type": "markdown",
   "metadata": {},
   "source": [
    "We have used many functions in python. For example: \n",
    "- print()\n",
    "- sum([1, 3]) returns 4\n",
    "- np.mean([1,3]) returns 2\n",
    "- etc.\n",
    "\n",
    "There are a lot of useful functions in python that we can use. However, sometimes we have a specific task for which we need to write our own python function."
   ]
  },
  {
   "cell_type": "markdown",
   "metadata": {},
   "source": [
    "### Why define our own functions"
   ]
  },
  {
   "cell_type": "markdown",
   "metadata": {
    "slideshow": {
     "slide_type": "subslide"
    }
   },
   "source": [
    "**Example**\n",
    "\n",
    "You decided to check out a very popular East Village ramen restaurant for dinner on Friday night.  After waiting in line for two hours, you are finally seated.  As you are reading the menu, you realized that this restaurant is cash-only.  You have $28.75 with you and need to make sure that you have enough cash to pay for the dinner, including the 8.875% tax and the tip.\n",
    "\n",
    "You are considering ordering a $\\$$15 dish and a $\\$$6 beverage.  How much would you have to pay if you are giving an 18% tip?"
   ]
  },
  {
   "cell_type": "code",
   "execution_count": null,
   "metadata": {
    "slideshow": {
     "slide_type": "fragment"
    }
   },
   "outputs": [],
   "source": [
    "subtotal = 15 + 6\n",
    "tip = subtotal * 0.18\n",
    "tax = subtotal * .08875\n",
    "total = subtotal + tip + tax\n",
    "\n",
    "total"
   ]
  },
  {
   "cell_type": "code",
   "execution_count": null,
   "metadata": {},
   "outputs": [],
   "source": []
  },
  {
   "cell_type": "markdown",
   "metadata": {
    "slideshow": {
     "slide_type": "subslide"
    }
   },
   "source": [
    "**Example, continued**\n",
    "\n",
    "With 28.75 in your pocket, knowing that you still have some cash leftover, you wonder if you could afford a $\\$$17 dish and a $\\$$6 beverage, with the same 8.875\\% tax and 18\\% tip."
   ]
  },
  {
   "cell_type": "code",
   "execution_count": null,
   "metadata": {
    "slideshow": {
     "slide_type": "fragment"
    }
   },
   "outputs": [],
   "source": [
    "subtotal = 17 + 6\n",
    "tip = subtotal * 0.18\n",
    "tax = subtotal * .08875\n",
    "total = subtotal + tip + tax\n",
    "\n",
    "total"
   ]
  },
  {
   "cell_type": "code",
   "execution_count": null,
   "metadata": {},
   "outputs": [],
   "source": []
  },
  {
   "cell_type": "markdown",
   "metadata": {
    "slideshow": {
     "slide_type": "subslide"
    }
   },
   "source": [
    "**Example, continued**\n",
    "\n",
    "Since you only have $\\$$28.75 but really want that $\\$$17 dish and the $\\$$6 beverage, you wonder if you can afford this meal if you only give a 15\\% tip. "
   ]
  },
  {
   "cell_type": "code",
   "execution_count": null,
   "metadata": {
    "slideshow": {
     "slide_type": "fragment"
    }
   },
   "outputs": [],
   "source": [
    "subtotal = 17 + 6\n",
    "tip = subtotal * 0.15\n",
    "tax = subtotal * .08875\n",
    "total = subtotal + tip + tax\n",
    "\n",
    "total"
   ]
  },
  {
   "cell_type": "markdown",
   "metadata": {},
   "source": [
    "**Takeaways**:\n",
    "+ The above examples are all similar (and **repetitive**!)\n",
    "+ Same method of computation, just different numbers\n",
    "+ Wouldn't it be nice if there is a python function that allows us to do the above repetitions easily?  Something like\n",
    "\n",
    "        calculate_bill( LISTOFPRICESOFITEMS, TIPPERCENTAGE)\n",
    "  that calculates the total bill, given a list of prices/costs of items and how many percent tip we want to give"
   ]
  },
  {
   "cell_type": "markdown",
   "metadata": {},
   "source": [
    "### 1.2 How to define your own functions in python"
   ]
  },
  {
   "cell_type": "markdown",
   "metadata": {},
   "source": [
    "    def MYFUNCTION( INPUT1 , INPUT2 , ...):\n",
    "        ...\n",
    "        ...\n",
    "        return OUTPUTVALUE\n",
    "\n",
    "Here:\n",
    "- `MYFUNCTION` is the name of your new function (you choose the name)\n",
    "- `INPUT1`, `INPUT2` etc. are the input(s) to the function (you can choose the names)\n",
    "- `OUTPUTVALUE` is the name of the variable whose value is returned by the function (you can choose the name)."
   ]
  },
  {
   "cell_type": "markdown",
   "metadata": {
    "slideshow": {
     "slide_type": "subslide"
    }
   },
   "source": [
    "**Example**"
   ]
  },
  {
   "cell_type": "code",
   "execution_count": null,
   "metadata": {
    "slideshow": {
     "slide_type": "fragment"
    }
   },
   "outputs": [],
   "source": [
    "def calculate_bill(list_of_prices, tip_percentage):\n",
    "    subtotal = sum(list_of_prices)\n",
    "    tip = subtotal * tip_percentage\n",
    "    tax = subtotal * .08875\n",
    "    total = subtotal + tip + tax\n",
    "    return total\n",
    " "
   ]
  },
  {
   "cell_type": "code",
   "execution_count": null,
   "metadata": {},
   "outputs": [],
   "source": [
    "prices = [15, 6]\n",
    "tip = 0.18\n",
    "calculate_bill(prices, tip)"
   ]
  },
  {
   "cell_type": "code",
   "execution_count": null,
   "metadata": {
    "slideshow": {
     "slide_type": "fragment"
    }
   },
   "outputs": [],
   "source": [
    "prices = [17, 6]\n",
    "tip = 0.18\n",
    "calculate_bill(prices, tip)"
   ]
  },
  {
   "cell_type": "code",
   "execution_count": null,
   "metadata": {
    "slideshow": {
     "slide_type": "fragment"
    }
   },
   "outputs": [],
   "source": [
    "prices = [17, 6]\n",
    "tip = 0.15\n",
    "calculate_bill(prices, tip)"
   ]
  },
  {
   "cell_type": "code",
   "execution_count": null,
   "metadata": {},
   "outputs": [],
   "source": []
  },
  {
   "cell_type": "markdown",
   "metadata": {},
   "source": [
    "#### Concept Check"
   ]
  },
  {
   "cell_type": "markdown",
   "metadata": {},
   "source": [
    "Suppose that I came up with a new function called `myfunction()`, defined as follows\n",
    "\n",
    "\n",
    "        def myfunction ( x, y ):\n",
    "            z = x**2 + y\n",
    "        return( z )\n",
    "    \n",
    "\r",
    "If we run the command `myfunction(2, 3)`, what value would be returned by this function?\n",
    "\n",
    "A. 4\n",
    "\n",
    "B. 5\n",
    "\n",
    "C. 6\n",
    "\n",
    "D. 7\n",
    "\n",
    "E. None of the above\n"
   ]
  },
  {
   "cell_type": "code",
   "execution_count": null,
   "metadata": {},
   "outputs": [],
   "source": []
  },
  {
   "cell_type": "code",
   "execution_count": null,
   "metadata": {},
   "outputs": [],
   "source": []
  },
  {
   "cell_type": "markdown",
   "metadata": {},
   "source": [
    "## 2. Loops"
   ]
  },
  {
   "cell_type": "markdown",
   "metadata": {},
   "source": [
    "“Loops” are used when we want to repeat the same task for each member of a list."
   ]
  },
  {
   "cell_type": "markdown",
   "metadata": {},
   "source": [
    "### 2.1. Understanding `for` loops\n",
    "\n",
    "To repeat TASK for each VALUE in the list LIST\n",
    "\n",
    "    for( VALUE in LIST ):\n",
    "        TASKS"
   ]
  },
  {
   "cell_type": "code",
   "execution_count": null,
   "metadata": {},
   "outputs": [],
   "source": [
    "a = 'I like '\n",
    "b = 'apples'"
   ]
  },
  {
   "cell_type": "code",
   "execution_count": null,
   "metadata": {},
   "outputs": [],
   "source": [
    "print(a)\n",
    "print(b)"
   ]
  },
  {
   "cell_type": "code",
   "execution_count": null,
   "metadata": {},
   "outputs": [],
   "source": [
    "c = a + b\n",
    "print(c)"
   ]
  },
  {
   "cell_type": "code",
   "execution_count": null,
   "metadata": {},
   "outputs": [],
   "source": [
    "item = 'apple'\n",
    "print( 'I like ' + item+ '!')"
   ]
  },
  {
   "cell_type": "code",
   "execution_count": null,
   "metadata": {},
   "outputs": [],
   "source": [
    "favefruits = ['apples', 'bananas', 'watermelons']\n",
    "for item in favefruits:\n",
    "    print('I like ' + item+'!')"
   ]
  },
  {
   "cell_type": "markdown",
   "metadata": {},
   "source": [
    "**Example**\n",
    "\n",
    "Suppose we want to display the text:  \n",
    "\n",
    "\"1 squared is 1\"\n",
    "\n",
    "\"2 squared is 4\"\n",
    "\n",
    "... up to\n",
    "\n",
    "\"20 squared is 400\""
   ]
  },
  {
   "cell_type": "code",
   "execution_count": null,
   "metadata": {},
   "outputs": [],
   "source": [
    "numlist = np.arange(1, 21)"
   ]
  },
  {
   "cell_type": "code",
   "execution_count": null,
   "metadata": {},
   "outputs": [],
   "source": [
    "numlist"
   ]
  },
  {
   "cell_type": "code",
   "execution_count": null,
   "metadata": {},
   "outputs": [],
   "source": [
    "for x in numlist:\n",
    "    print(x, ' squared is ', x ** 2)"
   ]
  },
  {
   "cell_type": "markdown",
   "metadata": {},
   "source": [
    "### Activity\n",
    "\n",
    "Suppose we want to display the text:  \n",
    "\n",
    "\"1 cubed is 1\"\n",
    "\n",
    "\"2 cubed is 8\"\n",
    "\n",
    "\"3 cubed is 27\"\n",
    "\n",
    "... up to\n",
    "\n",
    "\"20 cubed is 8000\"\n",
    "\n",
    "**Write a for loop that accomplishes this task.**"
   ]
  },
  {
   "cell_type": "code",
   "execution_count": null,
   "metadata": {},
   "outputs": [],
   "source": [
    "for x in numlist:\n",
    "    print(x, ' cubed is ', x ** 3)"
   ]
  },
  {
   "cell_type": "code",
   "execution_count": null,
   "metadata": {},
   "outputs": [],
   "source": []
  },
  {
   "cell_type": "markdown",
   "metadata": {},
   "source": [
    "### Activity\n",
    "\n",
    "Suppose we want to display the text:  \n",
    "\n",
    "\"1 cubed is 1\"\n",
    "\n",
    "\"3 cubed is 27\"\n",
    "\n",
    "\"5 cubed is 125\"\n",
    "\n",
    "... up to\n",
    "\n",
    "\"25 cubed is 15625\"\n",
    "\n",
    "**Write a for loop that accomplishes this task.**"
   ]
  },
  {
   "cell_type": "code",
   "execution_count": null,
   "metadata": {},
   "outputs": [],
   "source": [
    "numlist = np.arange(1, 26, 2)"
   ]
  },
  {
   "cell_type": "code",
   "execution_count": null,
   "metadata": {},
   "outputs": [],
   "source": [
    "numlist"
   ]
  },
  {
   "cell_type": "code",
   "execution_count": null,
   "metadata": {},
   "outputs": [],
   "source": [
    "for x in numlist:\n",
    "    print(x, ' cubed is ', x ** 3)"
   ]
  },
  {
   "cell_type": "markdown",
   "metadata": {},
   "source": [
    "### 2.2 Tracing how variables change values during loops"
   ]
  },
  {
   "cell_type": "markdown",
   "metadata": {},
   "source": [
    "**Example: Trace what's going on with the following for-loop.**"
   ]
  },
  {
   "cell_type": "code",
   "execution_count": null,
   "metadata": {},
   "outputs": [],
   "source": [
    "mylist = [-3, 5, 0, 7, 10]\n",
    "y = 1\n",
    "for x in mylist:\n",
    "    y = x+y\n",
    "    z = y ** 2\n",
    "    print(z)"
   ]
  },
  {
   "cell_type": "markdown",
   "metadata": {},
   "source": [
    "| x | y | z |\n",
    "| --- | --- | --- |\n",
    "| | 1 | |\n",
    "| -3 | -2 | 4 |\n",
    "| 5 | 3 | 9 |\n",
    "| 0 | 3 | 9 |\n",
    "| 7 | 10 | 100 |\n",
    "| 10 | 20 | 400 |"
   ]
  },
  {
   "cell_type": "code",
   "execution_count": null,
   "metadata": {},
   "outputs": [],
   "source": [
    "y =1\n",
    "y = -2\n",
    "y"
   ]
  },
  {
   "cell_type": "markdown",
   "metadata": {},
   "source": [
    "**Concept Check 1:**\n",
    "\n",
    "What will the following for loop do?\n",
    "\n",
    "    a=0\n",
    "    for i in [1, 2, 3, 4]:\n",
    "        a = a + i\n",
    "    print(a)\n",
    "\n",
    "A. It will print out the values: 1, 2, 3, 4\n",
    "\n",
    "B. It will print out the values: 0, 1, 3, 6, 10\n",
    "\n",
    "C. It will print out the values: 1, 3, 6, 10\n",
    "\n",
    "D. It will print out the value: 4\n",
    "\n",
    "E. It will print out the value: 10\n",
    "\n",
    "F. None of the above"
   ]
  },
  {
   "cell_type": "code",
   "execution_count": null,
   "metadata": {},
   "outputs": [],
   "source": []
  },
  {
   "cell_type": "markdown",
   "metadata": {},
   "source": [
    "**Concept Check 2:**\n",
    "\n",
    "What will the following for loop do?\n",
    "\n",
    "    a=0\n",
    "    for i in [1, 2, 3, 4]:\n",
    "        a = a + i\n",
    "        print(a)\n",
    "\n",
    "A. It will print out the values: 1, 2, 3, 4\n",
    "\n",
    "B. It will print out the values: 0, 1, 3, 6, 10\n",
    "\n",
    "C. It will print out the values: 1, 3, 6, 10\n",
    "\n",
    "D. It will print out the value: 4\n",
    "\n",
    "E. It will print out the value: 10\n",
    "\n",
    "F. None of the above"
   ]
  },
  {
   "cell_type": "code",
   "execution_count": null,
   "metadata": {
    "scrolled": true
   },
   "outputs": [],
   "source": []
  },
  {
   "cell_type": "code",
   "execution_count": null,
   "metadata": {},
   "outputs": [],
   "source": []
  },
  {
   "cell_type": "markdown",
   "metadata": {},
   "source": [
    "**Example**\n",
    "\n",
    "Recall our `calculate_bill()` function from above, reproduced below."
   ]
  },
  {
   "cell_type": "code",
   "execution_count": null,
   "metadata": {},
   "outputs": [],
   "source": [
    "# copy and paste function below\n",
    "def calculate_bill(list_of_prices, tip_percentage):\n",
    "    subtotal = sum(list_of_prices)\n",
    "    tip = subtotal * tip_percentage\n",
    "    tax = subtotal * .08875\n",
    "    total = subtotal + tip + tax\n",
    "    return total\n"
   ]
  },
  {
   "cell_type": "markdown",
   "metadata": {},
   "source": [
    "Suppose that we would like to compute possible bills for a few different tip percentages, from 10\\%, 11%, 12%, ..., to 25\\%, if we order the following items:\n",
    "+ an \\$7 appetizer\n",
    "+ a \\$15 entree\n",
    "+ a \\$17 entree\n",
    "+ two \\$6 beverages."
   ]
  },
  {
   "cell_type": "code",
   "execution_count": null,
   "metadata": {},
   "outputs": [],
   "source": [
    "tip_range = np.arange(10, 26)\n",
    "prices = [7, 15, 17, 6, 6]\n",
    "for t in tip_range:\n",
    "    tip = t * .01\n",
    "    print(calculate_bill(prices, tip))"
   ]
  },
  {
   "cell_type": "code",
   "execution_count": null,
   "metadata": {},
   "outputs": [],
   "source": []
  },
  {
   "cell_type": "code",
   "execution_count": null,
   "metadata": {},
   "outputs": [],
   "source": []
  },
  {
   "cell_type": "markdown",
   "metadata": {},
   "source": [
    "### 2.3. Accessing entries of a numpy array during loops\n",
    "\n",
    "Suppose that we would like to store the values that we computed during loops into a table."
   ]
  },
  {
   "cell_type": "markdown",
   "metadata": {},
   "source": [
    "**Example**\n",
    "\n",
    "Create a numpy array called `squares` which has 20 rows and 2 columns:\n",
    "\n",
    "<table>\n",
    "    <tr>\n",
    "        <th>n</th>\n",
    "        <th>n_squared</th>\n",
    "    </tr>    \n",
    "    <tr>\n",
    "        <td>1</td>\n",
    "        <td>1</td>\n",
    "    </tr>    \n",
    "    <tr>\n",
    "        <td>2</td>\n",
    "        <td>4</td>\n",
    "    </tr>    \n",
    "    <tr>\n",
    "        <td>3</td>\n",
    "        <td>9</td>\n",
    "    </tr>    \n",
    "    <tr>\n",
    "        <td>...</td>\n",
    "        <td>...</td>\n",
    "    </tr>    \n",
    "    <tr>\n",
    "        <td>19</td>\n",
    "        <td>361</td>\n",
    "    </tr>\n",
    "    <tr>\n",
    "        <td>20</td>\n",
    "        <td>400</td>\n",
    "    </tr>\n",
    "</table>"
   ]
  },
  {
   "cell_type": "code",
   "execution_count": null,
   "metadata": {},
   "outputs": [],
   "source": [
    "# We can create an \"empty\" numpy array of size (20, 2)\n",
    "# .empty fills in the entries with random numbers\n",
    "squares = np.empty((20, 2))\n",
    "squares"
   ]
  },
  {
   "cell_type": "code",
   "execution_count": null,
   "metadata": {},
   "outputs": [],
   "source": [
    "# We can create an \"empty\" numpy array of size (20, 2)\n",
    "# .zeros fills in the entries with all 0s\n",
    "# this method is known to be slightly slower than .empty\n",
    "squares = np.zeros((20, 2))\n",
    "squares"
   ]
  },
  {
   "cell_type": "code",
   "execution_count": null,
   "metadata": {},
   "outputs": [],
   "source": [
    "# fill in the empty np array row by row\n",
    "for row in range(20):\n",
    "    squares[row, 0] = row\n",
    "    squares[row, 1] = row **2\n",
    "\n",
    "squares\n"
   ]
  },
  {
   "cell_type": "code",
   "execution_count": null,
   "metadata": {},
   "outputs": [],
   "source": [
    "# Alternative\n",
    "# fill in the empty np array row by row\n",
    "for row in range(20):\n",
    "    squares[row][0] = row\n",
    "    squares[row][1] = row **2\n",
    "\n",
    "squares\n"
   ]
  },
  {
   "cell_type": "code",
   "execution_count": null,
   "metadata": {},
   "outputs": [],
   "source": [
    "# Alternative 2\n",
    "# first create an empty numpy array\n",
    "    # but you have to specify the the number of columns\n",
    "# fill in the empty np array row by row using .append\n",
    "squares = np.empty((0, 2))\n",
    "for row in range(20):\n",
    "    squares = np.append(sq, [[row, row **2]], axis=0)\n",
    "squares\n"
   ]
  },
  {
   "cell_type": "code",
   "execution_count": null,
   "metadata": {},
   "outputs": [],
   "source": [
    "# Alternative 3\n",
    "# first create an empty list\n",
    "# fill in the empty list row by row\n",
    "# then convert to a numpy array\n",
    "lst = []\n",
    "for row in range(20):\n",
    "    lst.append([row, row **2])\n",
    "squares = np.array(lst)\n",
    "squares"
   ]
  },
  {
   "cell_type": "code",
   "execution_count": null,
   "metadata": {},
   "outputs": [],
   "source": []
  },
  {
   "cell_type": "markdown",
   "metadata": {},
   "source": [
    "**Example**\n",
    "\n",
    "Suppose that we would like to compute possible bills for a few different tip percentages, from 10\\%, 11%, 12%, ..., to 25\\%, if we order the following items:\n",
    "+ an \\$7 appetizer\n",
    "+ a \\$15 entree\n",
    "+ a \\$17 entree\n",
    "+ two \\$6 beverage.\n",
    "\n",
    "We would like to create a numpy array with 2 columns and one row for each possible tip percentages.  The first column is the tip percentage itself and the second column is the total bill:\n",
    "\n",
    "<table>\n",
    "    <tr>\n",
    "        <th>tip_percentage</th>\n",
    "        <th>total</th>\n",
    "    </tr>    \n",
    "    <tr>\n",
    "        <td>10</td>\n",
    "        <td>60.62625</td>\n",
    "    </tr>    \n",
    "    <tr>\n",
    "        <td>11</td>\n",
    "        <td>61.64625</td>\n",
    "    </tr>    \n",
    "    <tr>\n",
    "        <td>12</td>\n",
    "        <td>62.15625</td>\n",
    "    </tr>    \n",
    "    <tr>\n",
    "        <td>...</td>\n",
    "        <td>...</td>\n",
    "    </tr>\n",
    "    <tr>\n",
    "        <td>24</td>\n",
    "        <td>67.76625</td>\n",
    "    </tr>\n",
    "    <tr>\n",
    "        <td>25</td>\n",
    "        <td>68.27625</td>\n",
    "    </tr>\n",
    "</table>\n",
    "\n"
   ]
  },
  {
   "cell_type": "code",
   "execution_count": null,
   "metadata": {},
   "outputs": [],
   "source": [
    "def calculate_bill( list_of_prices, tip_percentage ):\n",
    "    # compute based on inputs\n",
    "    subtotal = sum(list_of_prices)\n",
    "    total = subtotal * (1 + tip_percentage + 0.08875 )\n",
    "    \n",
    "    return total "
   ]
  },
  {
   "cell_type": "code",
   "execution_count": null,
   "metadata": {},
   "outputs": [],
   "source": [
    "bill_tip = np.empty((16, 2))\n",
    "tip_range = np.arange(10, 26)\n",
    "prices = [7, 15, 17, 6, 6]\n",
    "for row in range(16):\n",
    "    t = tip_range[row]\n",
    "    bill_tip[row, 0] = t\n",
    "    tip = t *.01\n",
    "    bill_tip[row, 1] = calculate_bill(prices, tip)\n",
    "bill_tip"
   ]
  },
  {
   "cell_type": "code",
   "execution_count": null,
   "metadata": {},
   "outputs": [],
   "source": [
    "calculate_bill(prices, tip_range*.01)"
   ]
  },
  {
   "cell_type": "markdown",
   "metadata": {
    "jp-MarkdownHeadingCollapsed": true,
    "slideshow": {
     "slide_type": "skip"
    }
   },
   "source": [
    "#### Miscellaneous Jupyter Notebook Tips\n",
    "\n",
    "To increase the indentation of an entire block of code: highlight the code, then\n",
    "+ Ctrl + ]\n",
    "\n",
    "To decrease indentation:\n",
    "+ Ctrl + [\n",
    "\n",
    "To comment/uncomment an entire block of code:\n",
    "+ Ctrl + /"
   ]
  }
 ],
 "metadata": {
  "celltoolbar": "Slideshow",
  "kernelspec": {
   "display_name": "Python [conda env:py3-11]",
   "language": "python",
   "name": "conda-env-py3-11-py"
  },
  "language_info": {
   "codemirror_mode": {
    "name": "ipython",
    "version": 3
   },
   "file_extension": ".py",
   "mimetype": "text/x-python",
   "name": "python",
   "nbconvert_exporter": "python",
   "pygments_lexer": "ipython3",
   "version": "3.11.11"
  }
 },
 "nbformat": 4,
 "nbformat_minor": 4
}
